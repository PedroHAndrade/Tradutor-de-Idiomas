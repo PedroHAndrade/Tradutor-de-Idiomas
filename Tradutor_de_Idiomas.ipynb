{
  "nbformat": 4,
  "nbformat_minor": 0,
  "metadata": {
    "colab": {
      "provenance": [],
      "authorship_tag": "ABX9TyMPySsyDbN02mHtgZIs1QNS",
      "include_colab_link": true
    },
    "kernelspec": {
      "name": "python3",
      "display_name": "Python 3"
    },
    "language_info": {
      "name": "python"
    }
  },
  "cells": [
    {
      "cell_type": "markdown",
      "metadata": {
        "id": "view-in-github",
        "colab_type": "text"
      },
      "source": [
        "<a href=\"https://colab.research.google.com/github/PedroHAndrade/Tradutor-de-Idiomas/blob/main/Tradutor_de_Idiomas.ipynb\" target=\"_parent\"><img src=\"https://colab.research.google.com/assets/colab-badge.svg\" alt=\"Open In Colab\"/></a>"
      ]
    },
    {
      "cell_type": "code",
      "execution_count": 1,
      "metadata": {
        "colab": {
          "base_uri": "https://localhost:8080/"
        },
        "collapsed": true,
        "id": "yFg92UqCfC3Q",
        "outputId": "0923fe49-b462-495f-e428-8b826c86282e"
      },
      "outputs": [
        {
          "output_type": "stream",
          "name": "stdout",
          "text": [
            "\u001b[2K   \u001b[90m━━━━━━━━━━━━━━━━━━━━━━━━━━━━━━━━━━━━━━━━\u001b[0m \u001b[32m54.1/54.1 MB\u001b[0m \u001b[31m13.0 MB/s\u001b[0m eta \u001b[36m0:00:00\u001b[0m\n",
            "\u001b[2K   \u001b[90m━━━━━━━━━━━━━━━━━━━━━━━━━━━━━━━━━━━━━━━━\u001b[0m \u001b[32m323.1/323.1 kB\u001b[0m \u001b[31m15.4 MB/s\u001b[0m eta \u001b[36m0:00:00\u001b[0m\n",
            "\u001b[2K   \u001b[90m━━━━━━━━━━━━━━━━━━━━━━━━━━━━━━━━━━━━━━━━\u001b[0m \u001b[32m95.2/95.2 kB\u001b[0m \u001b[31m5.4 MB/s\u001b[0m eta \u001b[36m0:00:00\u001b[0m\n",
            "\u001b[2K   \u001b[90m━━━━━━━━━━━━━━━━━━━━━━━━━━━━━━━━━━━━━━━━\u001b[0m \u001b[32m11.6/11.6 MB\u001b[0m \u001b[31m87.4 MB/s\u001b[0m eta \u001b[36m0:00:00\u001b[0m\n",
            "\u001b[2K   \u001b[90m━━━━━━━━━━━━━━━━━━━━━━━━━━━━━━━━━━━━━━━━\u001b[0m \u001b[32m72.0/72.0 kB\u001b[0m \u001b[31m4.5 MB/s\u001b[0m eta \u001b[36m0:00:00\u001b[0m\n",
            "\u001b[2K   \u001b[90m━━━━━━━━━━━━━━━━━━━━━━━━━━━━━━━━━━━━━━━━\u001b[0m \u001b[32m62.5/62.5 kB\u001b[0m \u001b[31m3.4 MB/s\u001b[0m eta \u001b[36m0:00:00\u001b[0m\n",
            "\u001b[2K   \u001b[90m━━━━━━━━━━━━━━━━━━━━━━━━━━━━━━━━━━━━━━━━\u001b[0m \u001b[32m32.9/32.9 MB\u001b[0m \u001b[31m11.7 MB/s\u001b[0m eta \u001b[36m0:00:00\u001b[0m\n",
            "\u001b[?25h"
          ]
        }
      ],
      "source": [
        "!pip install -q google-genai\n",
        "!pip install -q gradio\n",
        "!pip install -q SpeechRecognition pydub"
      ]
    },
    {
      "cell_type": "code",
      "source": [
        "import os\n",
        "from google.colab import userdata\n",
        "from google import genai\n",
        "import gradio as gr\n",
        "import speech_recognition as sr\n",
        "import io\n",
        "import numpy as np\n",
        "\n",
        "os.environ['GOOGLE_API_KEY'] = userdata.get('GOOGLE_API_KEY')\n",
        "\n",
        "client = genai.Client()\n",
        "\n",
        "modelo_traducao = \"gemini-2.0-flash\"\n",
        "\n",
        "def traduzir_texto(texto, idioma_destino):\n",
        "    \"\"\"Função para traduzir o texto usando o Gemini.\"\"\"\n",
        "    prompt = f\"Traduza o seguinte texto, de forma sucinta, e com alguns outros exemplos que poderiam ser usados para a mesma frase para {idioma_destino}: '{texto}'\"\n",
        "    resposta = client.models.generate_content(model=modelo_traducao, contents=prompt)\n",
        "    return resposta.text\n",
        "\n",
        "def transcrever_audio(audio_data):\n",
        "    \"\"\"Função para transcrever o áudio em texto.\"\"\"\n",
        "    if audio_data is None:\n",
        "        return \"Nenhum áudio gravado.\"\n",
        "    rate, data = audio_data\n",
        "    recognizer = sr.Recognizer()\n",
        "    try:\n",
        "        # Converter os dados de áudio para o formato que o AudioData espera\n",
        "        audio = sr.AudioData(data.tobytes(), rate, 2) # Taxa e largura como argumentos posicionais\n",
        "        texto_transcrito = recognizer.recognize_google(audio, language=\"pt-BR\") # Reconhece em português\n",
        "        return texto_transcrito\n",
        "    except sr.UnknownValueError:\n",
        "        return \"Não foi possível entender o áudio.\"\n",
        "    except sr.RequestError as e:\n",
        "        return f\"Erro ao solicitar resultado do serviço de reconhecimento de fala; {e}\"\n",
        "\n",
        "def traduzir_audio(audio_data, idioma_destino):\n",
        "    \"\"\"Função para transcrever e depois traduzir o áudio.\"\"\"\n",
        "    texto_transcrito = transcrever_audio(audio_data)\n",
        "    print(f\"Texto transcrito (para debug): {texto_transcrito}\")\n",
        "    if \"Não foi possível entender o áudio\" in texto_transcrito or \"Erro ao solicitar resultado\" in texto_transcrito or \"Nenhum áudio gravado\" in texto_transcrito:\n",
        "        return texto_transcrito\n",
        "    return traduzir_texto(texto_transcrito, idioma_destino)\n",
        "\n",
        "# INTERFACE\n",
        "iface_texto = gr.Interface(\n",
        "    fn=traduzir_texto,\n",
        "    inputs=[\n",
        "        gr.Textbox(label=\"Texto a ser traduzido\"),\n",
        "        gr.Dropdown(choices=[\"português\", \"inglês\", \"espanhol\", \"francês\", \"italiano\", \"turco\", \"mandarim\", \"aramaico\"], label=\"Idioma de destino\")\n",
        "    ],\n",
        "    outputs=gr.Textbox(label=\"Tradução (do Texto)\"),\n",
        "    title=\"Tradução de Texto\"\n",
        ")\n",
        "\n",
        "iface_audio = gr.Interface(\n",
        "    fn=traduzir_audio,\n",
        "    inputs=[\n",
        "        gr.Audio(sources=[\"microphone\"], label=\"Gravar Áudio\"),\n",
        "        gr.Dropdown(choices=[\"português\", \"inglês\", \"espanhol\", \"francês\", \"italiano\", \"turco\", \"mandarim\", \"aramaico\"], label=\"Idioma de destino\")\n",
        "    ],\n",
        "    outputs=gr.Textbox(label=\"Tradução (do Áudio)\"),\n",
        "    title=\"Tradução de Áudio\"\n",
        ")\n",
        "\n",
        "# Cria a interface com abas\n",
        "demo = gr.TabbedInterface([iface_texto, iface_audio], [\"Texto\", \"Áudio\"])\n",
        "\n",
        "# Inicia a interface\n",
        "demo.launch(share=True, debug=True)"
      ],
      "metadata": {
        "colab": {
          "base_uri": "https://localhost:8080/",
          "height": 663
        },
        "id": "-IEDWGW5fEFS",
        "outputId": "5d9b01c7-7c39-4530-b518-74a042b84f6f"
      },
      "execution_count": 5,
      "outputs": [
        {
          "output_type": "stream",
          "name": "stdout",
          "text": [
            "Colab notebook detected. This cell will run indefinitely so that you can see errors and logs. To turn off, set debug=False in launch().\n",
            "* Running on public URL: https://2db03b373eac29624f.gradio.live\n",
            "\n",
            "This share link expires in 1 week. For free permanent hosting and GPU upgrades, run `gradio deploy` from the terminal in the working directory to deploy to Hugging Face Spaces (https://huggingface.co/spaces)\n"
          ]
        },
        {
          "output_type": "display_data",
          "data": {
            "text/plain": [
              "<IPython.core.display.HTML object>"
            ],
            "text/html": [
              "<div><iframe src=\"https://2db03b373eac29624f.gradio.live\" width=\"100%\" height=\"500\" allow=\"autoplay; camera; microphone; clipboard-read; clipboard-write;\" frameborder=\"0\" allowfullscreen></iframe></div>"
            ]
          },
          "metadata": {}
        },
        {
          "output_type": "stream",
          "name": "stdout",
          "text": [
            "Texto transcrito (para debug): Boa tarde me chamo Pedro\n",
            "Keyboard interruption in main thread... closing server.\n",
            "Killing tunnel 127.0.0.1:7860 <> https://2db03b373eac29624f.gradio.live\n"
          ]
        },
        {
          "output_type": "execute_result",
          "data": {
            "text/plain": []
          },
          "metadata": {},
          "execution_count": 5
        }
      ]
    }
  ]
}